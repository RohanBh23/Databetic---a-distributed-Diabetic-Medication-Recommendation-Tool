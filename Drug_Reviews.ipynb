{
 "cells": [
  {
   "cell_type": "code",
   "execution_count": 5,
   "id": "456ab7ce-5a8a-4747-8dcb-772c79e3f8c0",
   "metadata": {},
   "outputs": [
    {
     "name": "stdout",
     "output_type": "stream",
     "text": [
      "IDS_mapping.csv\n",
      "diabetes_012_health_indicators_BRFSS2015.csv\n",
      "diabetes_binary_5050split_health_indicators_BRFSS2015.csv\n",
      "diabetes_binary_health_indicators_BRFSS2015.csv\n",
      "diabetic_data.csv\n",
      "drugsComTest_raw.tsv\n",
      "drugsComTrain_raw.tsv\n"
     ]
    }
   ],
   "source": [
    "import boto3\n",
    "\n",
    "s3 = boto3.client('s3')\n",
    "\n",
    "s3 = boto3.resource(\n",
    "\n",
    "        service_name = 's3',\n",
    "        region_name = 'us-east-2',\n",
    "        aws_access_key_id = aws_access_key_id,\n",
    "        aws_secret_access_key = aws_secret_access_key\n",
    "    \n",
    ")\n",
    "\n",
    "for object in s3.Bucket('newbucketformyproject').objects.all():\n",
    "    print(object.key)\n"
   ]
  },
  {
   "cell_type": "code",
   "execution_count": 6,
   "id": "159b67aa-fd6d-4591-9a59-70151b8511ff",
   "metadata": {},
   "outputs": [],
   "source": [
    "# Set the Hadoop configurations for S3 access\n",
    "spark._jsc.hadoopConfiguration().set(\"fs.s3a.impl\", \"org.apache.hadoop.fs.s3a.S3AFileSystem\")\n",
    "spark._jsc.hadoopConfiguration().set(\"fs.s3a.access.key\", aws_access_key_id)\n",
    "spark._jsc.hadoopConfiguration().set(\"fs.s3a.secret.key\", aws_secret_access_key)\n"
   ]
  },
  {
   "cell_type": "code",
   "execution_count": null,
   "id": "a5b43f23-2324-47b1-a33f-907562f580a0",
   "metadata": {},
   "outputs": [],
   "source": []
  },
  {
   "cell_type": "code",
   "execution_count": 10,
   "id": "12e6ffa7-2822-42c0-bc30-aa1bc959e9f5",
   "metadata": {},
   "outputs": [
    {
     "name": "stdout",
     "output_type": "stream",
     "text": [
      "+------+--------------------+--------------------+--------------------+------+------------------+-----------+\n",
      "|   _c0|            drugName|           condition|              review|rating|              date|usefulCount|\n",
      "+------+--------------------+--------------------+--------------------+------+------------------+-----------+\n",
      "|163740|         Mirtazapine|          Depression|\"\"\"I&#039;ve trie...|  10.0| February 28, 2012|         22|\n",
      "|206473|          Mesalamine|Crohn's Disease, ...|\"\"\"My son has Cro...|   8.0|      May 17, 2009|         17|\n",
      "|159672|             Bactrim|Urinary Tract Inf...|\"\"\"Quick reductio...|   9.0|September 29, 2017|          3|\n",
      "| 39293|            Contrave|         Weight Loss|\"\"\"Contrave combi...|   9.0|     March 5, 2017|         35|\n",
      "| 97768|     Cyclafem 1 / 35|       Birth Control|\"\"\"I have been on...|   9.0|  October 22, 2015|          4|\n",
      "|208087|             Zyclara|           Keratosis|\"\"\"4 days in on f...|   4.0|      July 3, 2014|         13|\n",
      "|215892|              Copper|       Birth Control|\"\"\"I&#039;ve had ...|   6.0|      June 6, 2016|          1|\n",
      "|169852|       Amitriptyline| Migraine Prevention|\"\"\"This has been ...|   9.0|    April 21, 2009|         32|\n",
      "| 23295|           Methadone|   Opiate Withdrawal|\"\"\"Ive been on Me...|   7.0|  October 18, 2016|         21|\n",
      "| 71428|              Levora|       Birth Control|\"\"\"I was on this ...|   2.0|    April 16, 2011|          3|\n",
      "|196802|          Paroxetine|         Hot Flashes|\"\"\"Holy Hell is e...|   1.0| February 22, 2017|         17|\n",
      "| 31947|          Miconazole|Vaginal Yeast Inf...|\"\"\"Honestly its d...|   6.0|       May 7, 2015|          7|\n",
      "|  4907|              Belviq|         Weight Loss|\"\"\"This is a wast...|   1.0|September 23, 2014|         57|\n",
      "| 66736|            Seroquel|Schizoaffective D...|\"\"\"No problems, w...|  10.0|   October 8, 2014|         19|\n",
      "| 97013|              Ambien|            Insomnia|\"\"\"Ditto on rebou...|   2.0|  January 13, 2015|         44|\n",
      "|213376|             Nuvigil|          Narcolepsy|\"\"\"A doctor in th...|   9.0|     June 30, 2010|         14|\n",
      "|151674|             Chantix|   Smoking Cessation|\"\"\"I smoked for 5...|  10.0| February 14, 2015|         26|\n",
      "| 33173|Microgestin Fe 1 ...|                Acne|\"\"\"So I was on Gi...|   3.0|     June 22, 2017|          1|\n",
      "| 30401|            Klonopin|     Bipolar Disorde|\"\"\"This medicatio...|   6.0|     July 14, 2009|         24|\n",
      "|152490|       Ciprofloxacin|Urinary Tract Inf...|\"\"\"After just 1 d...|  10.0|      June 9, 2010|          9|\n",
      "+------+--------------------+--------------------+--------------------+------+------------------+-----------+\n",
      "only showing top 20 rows\n",
      "\n"
     ]
    }
   ],
   "source": [
    "drugsComTest_raw = spark.read.csv(\"s3a://newbucketformyproject/drugsComTest_raw.tsv\", sep='\\t', header=True)\n",
    "drugsComTest_raw.show()"
   ]
  },
  {
   "cell_type": "code",
   "execution_count": 12,
   "id": "ba760da9-9848-4984-a352-bac0ee41391b",
   "metadata": {},
   "outputs": [
    {
     "data": {
      "text/plain": [
       "DataFrame[_c0: string, drugName: string, condition: string, review: string, rating: string, date: string, usefulCount: string]"
      ]
     },
     "execution_count": 12,
     "metadata": {},
     "output_type": "execute_result"
    }
   ],
   "source": [
    "drugsComTest_raw"
   ]
  },
  {
   "cell_type": "code",
   "execution_count": 25,
   "id": "0b97c896-a710-4cab-9205-757fc80e0b90",
   "metadata": {},
   "outputs": [
    {
     "name": "stdout",
     "output_type": "stream",
     "text": [
      "+--------------------+--------------------+--------------------+--------------------+------+-----------------+-----------+\n",
      "|                 _c0|            drugName|           condition|              review|rating|             date|usefulCount|\n",
      "+--------------------+--------------------+--------------------+--------------------+------+-----------------+-----------+\n",
      "|              206461|           Valsartan|Left Ventricular ...|\"\"\"It has no side...|   9.0|     May 20, 2012|         27|\n",
      "|               95260|          Guanfacine|                ADHD|\"\"\"My son is half...|  NULL|             NULL|       NULL|\n",
      "|We have tried man...|                 8.0|      April 27, 2010|                 192|  NULL|             NULL|       NULL|\n",
      "|               92703|              Lybrel|       Birth Control|\"\"\"I used to take...|  NULL|             NULL|       NULL|\n",
      "|The positive side...|                 5.0|   December 14, 2009|                  17|  NULL|             NULL|       NULL|\n",
      "|              138000|          Ortho Evra|       Birth Control|\"\"\"This is my fir...|   8.0| November 3, 2015|         10|\n",
      "|               35696|Buprenorphine / n...|   Opiate Dependence|\"\"\"Suboxone has c...|   9.0|November 27, 2016|         37|\n",
      "|              155963|              Cialis|Benign Prostatic ...|\"\"\"2nd day on 5mg...|   2.0|November 28, 2015|         43|\n",
      "|              165907|      Levonorgestrel|Emergency Contrac...|\"\"\"He pulled out,...|   1.0|    March 7, 2017|          5|\n",
      "|              102654|        Aripiprazole|     Bipolar Disorde|\"\"\"Abilify change...|  10.0|   March 14, 2015|         32|\n",
      "|               74811|              Keppra|            Epilepsy|\"\"\" I Ve had  not...|   1.0|   August 9, 2016|         11|\n",
      "|               48928|Ethinyl estradiol...|       Birth Control|\"\"\"I had been on ...|   8.0| December 8, 2016|          1|\n",
      "|               29607|          Topiramate| Migraine Prevention|\"\"\"I have been on...|   9.0|  January 1, 2015|         19|\n",
      "|               75612|      L-methylfolate|          Depression|\"\"\"I have taken a...|  NULL|             NULL|       NULL|\n",
      "|I only take Cymba...|                NULL|                NULL|                NULL|  NULL|             NULL|       NULL|\n",
      "|When I began Depl...|                10.0|       March 9, 2017|                  54|  NULL|             NULL|       NULL|\n",
      "|              191290|             Pentasa|     Crohn's Disease|\"\"\"I had Crohn&#0...|   4.0|     July 6, 2013|          8|\n",
      "|              221320|    Dextromethorphan|               Cough|\"\"\"Have a little ...|   4.0|September 7, 2017|          1|\n",
      "|               98494|           Nexplanon|       Birth Control|\"\"\"Started Nexpla...|  NULL|             NULL|       NULL|\n",
      "|I&#039;ve never h...|                 3.0|      August 7, 2014|                  10|  NULL|             NULL|       NULL|\n",
      "+--------------------+--------------------+--------------------+--------------------+------+-----------------+-----------+\n",
      "only showing top 20 rows\n",
      "\n"
     ]
    }
   ],
   "source": [
    "# Reading TSV file into a Spark DataFrame\n",
    "drugsComTrain_raw = spark.read.csv(\"s3a://newbucketformyproject/drugsComTrain_raw.tsv\", sep='\\t', header=True)\n",
    "drugsComTrain_raw.show()"
   ]
  },
  {
   "cell_type": "code",
   "execution_count": 3,
   "id": "f0c1ce2f-e00f-4674-8e94-7e38f53d60d5",
   "metadata": {},
   "outputs": [
    {
     "ename": "NameError",
     "evalue": "name 'drugsComTrain_raw' is not defined",
     "output_type": "error",
     "traceback": [
      "\u001b[1;31m---------------------------------------------------------------------------\u001b[0m",
      "\u001b[1;31mNameError\u001b[0m                                 Traceback (most recent call last)",
      "Cell \u001b[1;32mIn[3], line 1\u001b[0m\n\u001b[1;32m----> 1\u001b[0m drugsComTrain_raw\n",
      "\u001b[1;31mNameError\u001b[0m: name 'drugsComTrain_raw' is not defined"
     ]
    }
   ],
   "source": [
    "drugsComTrain_raw"
   ]
  },
  {
   "cell_type": "code",
   "execution_count": null,
   "id": "98cc163c-b106-451a-85b0-befd0a1be37c",
   "metadata": {},
   "outputs": [],
   "source": []
  },
  {
   "cell_type": "code",
   "execution_count": 29,
   "id": "55a5e764-17cc-40a9-ab47-463822c77501",
   "metadata": {},
   "outputs": [
    {
     "name": "stdout",
     "output_type": "stream",
     "text": [
      "+--------------------+--------------------+--------------------+--------------------+------+-----------------+-----------+\n",
      "|                 _c0|            drugName|           condition|              review|rating|             date|usefulCount|\n",
      "+--------------------+--------------------+--------------------+--------------------+------+-----------------+-----------+\n",
      "|              206461|           Valsartan|Left Ventricular ...|\"\"\"It has no side...|   9.0|     May 20, 2012|         27|\n",
      "|               95260|          Guanfacine|                ADHD|\"\"\"My son is half...|  NULL|             NULL|       NULL|\n",
      "|We have tried man...|                 8.0|      April 27, 2010|                 192|  NULL|             NULL|       NULL|\n",
      "|               92703|              Lybrel|       Birth Control|\"\"\"I used to take...|  NULL|             NULL|       NULL|\n",
      "|The positive side...|                 5.0|   December 14, 2009|                  17|  NULL|             NULL|       NULL|\n",
      "|              138000|          Ortho Evra|       Birth Control|\"\"\"This is my fir...|   8.0| November 3, 2015|         10|\n",
      "|               35696|Buprenorphine / n...|   Opiate Dependence|\"\"\"Suboxone has c...|   9.0|November 27, 2016|         37|\n",
      "|              155963|              Cialis|Benign Prostatic ...|\"\"\"2nd day on 5mg...|   2.0|November 28, 2015|         43|\n",
      "|              165907|      Levonorgestrel|Emergency Contrac...|\"\"\"He pulled out,...|   1.0|    March 7, 2017|          5|\n",
      "|              102654|        Aripiprazole|     Bipolar Disorde|\"\"\"Abilify change...|  10.0|   March 14, 2015|         32|\n",
      "|               74811|              Keppra|            Epilepsy|\"\"\" I Ve had  not...|   1.0|   August 9, 2016|         11|\n",
      "|               48928|Ethinyl estradiol...|       Birth Control|\"\"\"I had been on ...|   8.0| December 8, 2016|          1|\n",
      "|               29607|          Topiramate| Migraine Prevention|\"\"\"I have been on...|   9.0|  January 1, 2015|         19|\n",
      "|               75612|      L-methylfolate|          Depression|\"\"\"I have taken a...|  NULL|             NULL|       NULL|\n",
      "|I only take Cymba...|                NULL|                NULL|                NULL|  NULL|             NULL|       NULL|\n",
      "|When I began Depl...|                10.0|       March 9, 2017|                  54|  NULL|             NULL|       NULL|\n",
      "|              191290|             Pentasa|     Crohn's Disease|\"\"\"I had Crohn&#0...|   4.0|     July 6, 2013|          8|\n",
      "|              221320|    Dextromethorphan|               Cough|\"\"\"Have a little ...|   4.0|September 7, 2017|          1|\n",
      "|               98494|           Nexplanon|       Birth Control|\"\"\"Started Nexpla...|  NULL|             NULL|       NULL|\n",
      "|I&#039;ve never h...|                 3.0|      August 7, 2014|                  10|  NULL|             NULL|       NULL|\n",
      "+--------------------+--------------------+--------------------+--------------------+------+-----------------+-----------+\n",
      "only showing top 20 rows\n",
      "\n"
     ]
    }
   ],
   "source": [
    "drugsComTrain_raw = drugsComTrain_raw.union(drugsComTest_raw)\n",
    "drugsComTrain_raw.show()"
   ]
  },
  {
   "cell_type": "code",
   "execution_count": 33,
   "id": "12456a12-4fca-457e-b192-cf0eef8812a3",
   "metadata": {},
   "outputs": [
    {
     "name": "stdout",
     "output_type": "stream",
     "text": [
      "+------+--------------------+--------------------+--------------------+------+------------------+-----------+\n",
      "|   _c0|            drugName|           condition|              review|rating|              date|usefulCount|\n",
      "+------+--------------------+--------------------+--------------------+------+------------------+-----------+\n",
      "|126595|         Brimonidine|             Rosacea|\"\"\"This cream is ...|   1.0|  January 31, 2017|         16|\n",
      "|198429|           Exenatide|    Diabetes, Type 2|\"\"\"I was on Bydur...|   6.0|      May 28, 2013|         34|\n",
      "|145101|        Etonogestrel|       Birth Control|\"\"\"I switched to ...|   5.0|  November 7, 2015|          1|\n",
      "| 80302|Alavert D-12 Hour...|1</span> users fo...|\"\"\"I&#039;ve foun...|   5.0|    April 15, 2016|          1|\n",
      "|142866|        Etonogestrel|       Birth Control|\"\"\"My arm was bru...|   1.0|September 22, 2017|          2|\n",
      "| 46156|             Repatha|    High Cholesterol|\"\"\"I have always ...|   1.0| December 27, 2016|         59|\n",
      "|217342|      Clarithromycin|          Bronchitis|\"\"\"I have always ...|  10.0|  January 26, 2017|         18|\n",
      "|135560|             Intuniv|                ADHD|\"\"\"My son was 6 w...|   3.0| December 10, 2015|         19|\n",
      "|186284|      Desvenlafaxine|          Depression|\"\"\"I had been on ...|   1.0|     June 13, 2012|         13|\n",
      "|214867|              Ampyra|  Multiple Sclerosis|\"\"\"My husband has...|   5.0|September 28, 2010|         84|\n",
      "|203742|      Mefenamic acid|         Period Pain|\"\"\"So my doctor p...|   2.0|    March 13, 2016|          5|\n",
      "|205225|Acetaminophen / a...|            Migraine|\"\"\"Awesome stuff....|  10.0| September 4, 2016|          1|\n",
      "|113754|Acetaminophen / b...|            Headache|\"\"\"I have taken F...|  10.0|    March 24, 2013|         23|\n",
      "| 50566|          Gabapentin|                Pain|\"\"\"Been taking Ne...|   8.0|   August 18, 2011|         52|\n",
      "| 32514|          Lisinopril| High Blood Pressure|\"\"\"I was on Lisin...|   1.0|  January 18, 2012|         37|\n",
      "|  6508|       Wellbutrin XL|          Depression|\"\"\"Been on it for...|   4.0|      July 2, 2017|         12|\n",
      "|146349|            Suboxone|   Opiate Dependence|\"\"\"Suboxone has s...|  10.0|September 18, 2009|         14|\n",
      "| 97364|        Voltaren Gel|                Pain|\"\"\"Works really w...|   8.0|      May 11, 2017|          8|\n",
      "|180314|          Diclofenac|      Osteoarthritis|\"\"\"I had a bad re...|   1.0|     March 8, 2016|         41|\n",
      "| 40425|             Savella|         ibromyalgia|\"\"\"I tried Savell...|   5.0|    April 27, 2010|         26|\n",
      "+------+--------------------+--------------------+--------------------+------+------------------+-----------+\n",
      "only showing top 20 rows\n",
      "\n"
     ]
    }
   ],
   "source": [
    "drugsComTrain_raw.dropDuplicates().show()"
   ]
  },
  {
   "cell_type": "code",
   "execution_count": 39,
   "id": "6a2d0b4c-5e47-4270-a6a7-18eb70d75998",
   "metadata": {},
   "outputs": [
    {
     "data": {
      "text/plain": [
       "329028"
      ]
     },
     "execution_count": 39,
     "metadata": {},
     "output_type": "execute_result"
    }
   ],
   "source": [
    "drugsComTrain_raw.count()"
   ]
  },
  {
   "cell_type": "code",
   "execution_count": 40,
   "id": "24ac7051-eca2-47a1-98d3-9593ad7e04b7",
   "metadata": {},
   "outputs": [
    {
     "data": {
      "text/plain": [
       "65987"
      ]
     },
     "execution_count": 40,
     "metadata": {},
     "output_type": "execute_result"
    }
   ],
   "source": [
    "drugsComTest_raw.count()"
   ]
  },
  {
   "cell_type": "code",
   "execution_count": null,
   "id": "00ae1b7e-bc30-42ed-929c-961c1a931d26",
   "metadata": {},
   "outputs": [],
   "source": []
  }
 ],
 "metadata": {
  "kernelspec": {
   "display_name": "Python 3 (ipykernel)",
   "language": "python",
   "name": "python3"
  },
  "language_info": {
   "codemirror_mode": {
    "name": "ipython",
    "version": 3
   },
   "file_extension": ".py",
   "mimetype": "text/x-python",
   "name": "python",
   "nbconvert_exporter": "python",
   "pygments_lexer": "ipython3",
   "version": "3.11.9"
  }
 },
 "nbformat": 4,
 "nbformat_minor": 5
}
